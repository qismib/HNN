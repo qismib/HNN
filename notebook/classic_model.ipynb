{
 "cells": [
  {
   "cell_type": "code",
   "execution_count": 4,
   "metadata": {},
   "outputs": [],
   "source": [
    "import numpy as np\n",
    "import torch\n",
    "from torch.utils.data import DataLoader, TensorDataset, random_split\n",
    "import matplotlib.pyplot as plt\n",
    "\n",
    "from torchviz import make_dot\n",
    "from sklearn.metrics import accuracy_score\n",
    "from sklearn.model_selection import train_test_split"
   ]
  },
  {
   "cell_type": "code",
   "execution_count": 5,
   "metadata": {},
   "outputs": [],
   "source": [
    "#CONTROL PARAMETERS CELL\n",
    "\n",
    "name = [\"Lagos\",\"Perth\"]\n",
    "seed = 25\n",
    "\n",
    "split_size = 0.8\n",
    "batch_size =  40\n",
    "\n",
    "hidden_layers =  [14,2]\n",
    "dropout = [0.,0.]\n",
    "learning_rate = 1e-4\n",
    "\n",
    "step_size = 50\n",
    "gamma = 0.75\n",
    "\n",
    "epochs = 130"
   ]
  },
  {
   "cell_type": "code",
   "execution_count": 6,
   "metadata": {},
   "outputs": [
    {
     "name": "stdout",
     "output_type": "stream",
     "text": [
      "1000\n"
     ]
    }
   ],
   "source": [
    "#Fixing the seed\n",
    "np.random.seed(seed)\n",
    "torch.manual_seed(seed)\n",
    "\n",
    "#load dataset and labels\n",
    "data = np.load('Dati/dataset_{}_x_{}.npy'.format(name[0],name[1]))\n",
    "label = np.load('Dati/labels_{}_x_{}.npy'.format(name[0],name[1]))\n",
    "\n",
    "#random permutation of dataset \n",
    "indices = np.random.permutation(data.shape[0])\n",
    "data = data[indices]\n",
    "label = label[indices]\n",
    "\n",
    "#conversion into torch tensor\n",
    "data = torch.tensor(data, dtype=torch.float32)\n",
    "label = torch.tensor(label, dtype=torch.float32)\n",
    "\n",
    "#reshape of label, it is necessary for later\n",
    "label = torch.reshape(label, [label.shape[0], 1])\n",
    "\n",
    "#show the dimension of dataset, \n",
    "print( len(data))"
   ]
  },
  {
   "cell_type": "code",
   "execution_count": 7,
   "metadata": {},
   "outputs": [],
   "source": [
    "#create Dataset and split it into training and validation sets\n",
    "dataset = TensorDataset(data,label)\n",
    "train_size = int( split_size * len(dataset))\n",
    "val_size = len(dataset) - train_size\n",
    "train_dataset, val_dataset = random_split(dataset, [train_size, val_size])\n",
    "\n",
    "# Create DataLoaders for training and validation sets\n",
    "train_loader = DataLoader(train_dataset, batch_size, shuffle=True, worker_init_fn= np.random.seed(seed) )\n",
    "val_loader = DataLoader(val_dataset, batch_size, shuffle=False , worker_init_fn= np.random.seed(seed))"
   ]
  },
  {
   "cell_type": "code",
   "execution_count": 8,
   "metadata": {},
   "outputs": [
    {
     "name": "stdout",
     "output_type": "stream",
     "text": [
      "Using cpu device\n"
     ]
    }
   ],
   "source": [
    "device = (\n",
    "    \"cuda\"\n",
    "    if torch.cuda.is_available()\n",
    "    else \"mps\"\n",
    "    if torch.backends.mps.is_available()\n",
    "    else \"cpu\"\n",
    ")\n",
    "print(f\"Using {device} device\")"
   ]
  },
  {
   "cell_type": "code",
   "execution_count": 9,
   "metadata": {},
   "outputs": [],
   "source": [
    "#define classic net\n",
    "class BlockLayer(torch.nn.Module):\n",
    "    def __init__(self,input_feat, output_feat, d_out):\n",
    "        super(BlockLayer,self).__init__()\n",
    "        self.block = torch.nn.Sequential(\n",
    "            torch.nn.Linear( input_feat, output_feat),\n",
    "            torch.nn.ReLU(),\n",
    "            torch.nn.Dropout( d_out )\n",
    "        )\n",
    "    def forward(self, x):\n",
    "        x = self.block(x)\n",
    "        return x\n",
    "\n",
    "\n",
    "class ClassicNetwork(torch.nn.Module):\n",
    "    def __init__(self, hidden_layers, d_out):\n",
    "        super(ClassicNetwork, self).__init__()\n",
    "        self.layers = torch.nn.ModuleList()\n",
    "\n",
    "        self.layers.append( torch.nn.Linear( len(data[0])  , hidden_layers[0]) )\n",
    "        self.layers.append(torch.nn.ReLU())\n",
    "        self.layers.append(torch.nn.Dropout(d_out[0]))\n",
    "\n",
    "        for i in range (len(hidden_layers) - 1):\n",
    "            self.layers.append( BlockLayer( hidden_layers[i], hidden_layers[i+1], d_out[i+1]) )\n",
    "\n",
    "        last_dim = len(hidden_layers) - 1\n",
    "        self.layers.append( torch.nn.Linear( hidden_layers[last_dim], 1) )\n",
    "\n",
    "        \n",
    "    def forward(self, x):\n",
    "        for layer in self.layers:\n",
    "            x = layer(x)\n",
    "        return x\n",
    "      \n",
    "      "
   ]
  },
  {
   "cell_type": "code",
   "execution_count": 10,
   "metadata": {},
   "outputs": [
    {
     "name": "stdout",
     "output_type": "stream",
     "text": [
      "ClassicNetwork(\n",
      "  (layers): ModuleList(\n",
      "    (0): Linear(in_features=4, out_features=14, bias=True)\n",
      "    (1): ReLU()\n",
      "    (2): Dropout(p=0.0, inplace=False)\n",
      "    (3): BlockLayer(\n",
      "      (block): Sequential(\n",
      "        (0): Linear(in_features=14, out_features=2, bias=True)\n",
      "        (1): ReLU()\n",
      "        (2): Dropout(p=0.0, inplace=False)\n",
      "      )\n",
      "    )\n",
      "    (4): Linear(in_features=2, out_features=1, bias=True)\n",
      "  )\n",
      ")\n"
     ]
    }
   ],
   "source": [
    "model = ClassicNetwork( hidden_layers , dropout )\n",
    "print(model)"
   ]
  },
  {
   "cell_type": "code",
   "execution_count": 11,
   "metadata": {},
   "outputs": [],
   "source": [
    "opt = torch.optim.Adam( model.parameters(), learning_rate)\n",
    "lossFunction = torch.nn.BCEWithLogitsLoss()\n",
    "\n",
    "scheduler = torch.optim.lr_scheduler.StepLR(opt, step_size= step_size, gamma= gamma)"
   ]
  },
  {
   "cell_type": "code",
   "execution_count": 12,
   "metadata": {},
   "outputs": [],
   "source": [
    "def evaluate_model( model , loader , loss_fn  ):\n",
    "    \n",
    "    all_outputs = []\n",
    "    all_labels = []\n",
    "\n",
    "    running_loss = 0\n",
    "    with torch.no_grad():\n",
    "        for id, (data, label) in enumerate(loader):\n",
    "            output = model(data)\n",
    "            loss = loss_fn(output,label)\n",
    "\n",
    "            running_loss += loss.item()\n",
    "\n",
    "            all_outputs.append(output)\n",
    "            all_labels.append(label)\n",
    "\n",
    "        losses = running_loss/(id+1)\n",
    "        all_outputs_tensor = torch.cat(all_outputs)\n",
    "        all_labels_tensor = torch.cat(all_labels)\n",
    "\n",
    "        predicted = torch.round(all_outputs_tensor)\n",
    "    \n",
    "        accuracy = accuracy_score(all_labels_tensor.numpy(), predicted.numpy())\n",
    "\n",
    "        return accuracy , losses"
   ]
  },
  {
   "cell_type": "code",
   "execution_count": 13,
   "metadata": {},
   "outputs": [
    {
     "name": "stdout",
     "output_type": "stream",
     "text": [
      "Epoch: 1\tTraining Loss: 0.7199\tVal Loss: 0.7341\tTraining Accuracy: 50.50%\tValidation Accuracy: 48.00%\n",
      "Epoch: 2\tTraining Loss: 0.7180\tVal Loss: 0.7321\tTraining Accuracy: 50.50%\tValidation Accuracy: 48.00%\n",
      "Epoch: 3\tTraining Loss: 0.7161\tVal Loss: 0.7301\tTraining Accuracy: 50.50%\tValidation Accuracy: 48.00%\n",
      "Epoch: 4\tTraining Loss: 0.7142\tVal Loss: 0.7282\tTraining Accuracy: 50.50%\tValidation Accuracy: 48.00%\n",
      "Epoch: 5\tTraining Loss: 0.7124\tVal Loss: 0.7263\tTraining Accuracy: 50.50%\tValidation Accuracy: 48.00%\n",
      "Epoch: 6\tTraining Loss: 0.7105\tVal Loss: 0.7244\tTraining Accuracy: 50.50%\tValidation Accuracy: 48.00%\n",
      "Epoch: 7\tTraining Loss: 0.7088\tVal Loss: 0.7226\tTraining Accuracy: 50.50%\tValidation Accuracy: 48.00%\n",
      "Epoch: 8\tTraining Loss: 0.7071\tVal Loss: 0.7207\tTraining Accuracy: 50.50%\tValidation Accuracy: 48.00%\n",
      "Epoch: 9\tTraining Loss: 0.7054\tVal Loss: 0.7187\tTraining Accuracy: 50.50%\tValidation Accuracy: 48.00%\n",
      "Epoch: 10\tTraining Loss: 0.7037\tVal Loss: 0.7168\tTraining Accuracy: 50.50%\tValidation Accuracy: 48.00%\n",
      "Epoch: 11\tTraining Loss: 0.7019\tVal Loss: 0.7149\tTraining Accuracy: 50.50%\tValidation Accuracy: 48.00%\n",
      "Epoch: 12\tTraining Loss: 0.7001\tVal Loss: 0.7130\tTraining Accuracy: 50.50%\tValidation Accuracy: 48.00%\n",
      "Epoch: 13\tTraining Loss: 0.6984\tVal Loss: 0.7111\tTraining Accuracy: 50.50%\tValidation Accuracy: 48.00%\n",
      "Epoch: 14\tTraining Loss: 0.6965\tVal Loss: 0.7091\tTraining Accuracy: 50.50%\tValidation Accuracy: 48.00%\n",
      "Epoch: 15\tTraining Loss: 0.6946\tVal Loss: 0.7071\tTraining Accuracy: 50.50%\tValidation Accuracy: 48.00%\n",
      "Epoch: 16\tTraining Loss: 0.6926\tVal Loss: 0.7049\tTraining Accuracy: 50.50%\tValidation Accuracy: 48.00%\n",
      "Epoch: 17\tTraining Loss: 0.6905\tVal Loss: 0.7028\tTraining Accuracy: 50.50%\tValidation Accuracy: 48.00%\n",
      "Epoch: 18\tTraining Loss: 0.6884\tVal Loss: 0.7004\tTraining Accuracy: 50.50%\tValidation Accuracy: 48.00%\n",
      "Epoch: 19\tTraining Loss: 0.6861\tVal Loss: 0.6980\tTraining Accuracy: 50.50%\tValidation Accuracy: 48.00%\n",
      "Epoch: 20\tTraining Loss: 0.6839\tVal Loss: 0.6956\tTraining Accuracy: 50.50%\tValidation Accuracy: 48.00%\n",
      "Epoch: 21\tTraining Loss: 0.6814\tVal Loss: 0.6931\tTraining Accuracy: 50.50%\tValidation Accuracy: 48.00%\n",
      "Epoch: 22\tTraining Loss: 0.6791\tVal Loss: 0.6904\tTraining Accuracy: 50.50%\tValidation Accuracy: 48.00%\n",
      "Epoch: 23\tTraining Loss: 0.6765\tVal Loss: 0.6877\tTraining Accuracy: 50.50%\tValidation Accuracy: 48.00%\n",
      "Epoch: 24\tTraining Loss: 0.6739\tVal Loss: 0.6850\tTraining Accuracy: 50.50%\tValidation Accuracy: 48.00%\n",
      "Epoch: 25\tTraining Loss: 0.6713\tVal Loss: 0.6821\tTraining Accuracy: 50.50%\tValidation Accuracy: 48.00%\n",
      "Epoch: 26\tTraining Loss: 0.6685\tVal Loss: 0.6791\tTraining Accuracy: 50.50%\tValidation Accuracy: 48.00%\n",
      "Epoch: 27\tTraining Loss: 0.6658\tVal Loss: 0.6761\tTraining Accuracy: 50.50%\tValidation Accuracy: 48.00%\n",
      "Epoch: 28\tTraining Loss: 0.6630\tVal Loss: 0.6731\tTraining Accuracy: 50.50%\tValidation Accuracy: 48.00%\n",
      "Epoch: 29\tTraining Loss: 0.6602\tVal Loss: 0.6699\tTraining Accuracy: 50.50%\tValidation Accuracy: 48.00%\n",
      "Epoch: 30\tTraining Loss: 0.6573\tVal Loss: 0.6667\tTraining Accuracy: 50.50%\tValidation Accuracy: 48.00%\n",
      "Epoch: 31\tTraining Loss: 0.6544\tVal Loss: 0.6635\tTraining Accuracy: 50.50%\tValidation Accuracy: 48.00%\n",
      "Epoch: 32\tTraining Loss: 0.6514\tVal Loss: 0.6603\tTraining Accuracy: 50.50%\tValidation Accuracy: 48.00%\n",
      "Epoch: 33\tTraining Loss: 0.6485\tVal Loss: 0.6571\tTraining Accuracy: 50.50%\tValidation Accuracy: 48.00%\n",
      "Epoch: 34\tTraining Loss: 0.6455\tVal Loss: 0.6540\tTraining Accuracy: 50.50%\tValidation Accuracy: 48.00%\n",
      "Epoch: 35\tTraining Loss: 0.6425\tVal Loss: 0.6508\tTraining Accuracy: 50.50%\tValidation Accuracy: 48.00%\n",
      "Epoch: 36\tTraining Loss: 0.6395\tVal Loss: 0.6475\tTraining Accuracy: 50.50%\tValidation Accuracy: 48.00%\n",
      "Epoch: 37\tTraining Loss: 0.6364\tVal Loss: 0.6443\tTraining Accuracy: 50.50%\tValidation Accuracy: 48.00%\n",
      "Epoch: 38\tTraining Loss: 0.6334\tVal Loss: 0.6411\tTraining Accuracy: 50.50%\tValidation Accuracy: 48.00%\n",
      "Epoch: 39\tTraining Loss: 0.6304\tVal Loss: 0.6377\tTraining Accuracy: 50.50%\tValidation Accuracy: 48.00%\n",
      "Epoch: 40\tTraining Loss: 0.6274\tVal Loss: 0.6344\tTraining Accuracy: 50.50%\tValidation Accuracy: 48.00%\n",
      "Epoch: 41\tTraining Loss: 0.6242\tVal Loss: 0.6312\tTraining Accuracy: 50.50%\tValidation Accuracy: 48.00%\n",
      "Epoch: 42\tTraining Loss: 0.6212\tVal Loss: 0.6280\tTraining Accuracy: 50.50%\tValidation Accuracy: 48.00%\n",
      "Epoch: 43\tTraining Loss: 0.6181\tVal Loss: 0.6248\tTraining Accuracy: 50.50%\tValidation Accuracy: 48.00%\n",
      "Epoch: 44\tTraining Loss: 0.6151\tVal Loss: 0.6215\tTraining Accuracy: 50.50%\tValidation Accuracy: 48.00%\n",
      "Epoch: 45\tTraining Loss: 0.6121\tVal Loss: 0.6182\tTraining Accuracy: 50.50%\tValidation Accuracy: 48.00%\n",
      "Epoch: 46\tTraining Loss: 0.6090\tVal Loss: 0.6150\tTraining Accuracy: 50.50%\tValidation Accuracy: 48.00%\n",
      "Epoch: 47\tTraining Loss: 0.6059\tVal Loss: 0.6116\tTraining Accuracy: 50.62%\tValidation Accuracy: 48.00%\n",
      "Epoch: 48\tTraining Loss: 0.6028\tVal Loss: 0.6084\tTraining Accuracy: 50.75%\tValidation Accuracy: 48.00%\n",
      "Epoch: 49\tTraining Loss: 0.5997\tVal Loss: 0.6051\tTraining Accuracy: 50.88%\tValidation Accuracy: 48.00%\n",
      "Epoch: 50\tTraining Loss: 0.5966\tVal Loss: 0.6019\tTraining Accuracy: 50.88%\tValidation Accuracy: 48.00%\n",
      "Epoch: 51\tTraining Loss: 0.5939\tVal Loss: 0.5994\tTraining Accuracy: 51.00%\tValidation Accuracy: 48.00%\n",
      "Epoch: 52\tTraining Loss: 0.5916\tVal Loss: 0.5968\tTraining Accuracy: 51.38%\tValidation Accuracy: 48.00%\n",
      "Epoch: 53\tTraining Loss: 0.5893\tVal Loss: 0.5944\tTraining Accuracy: 51.38%\tValidation Accuracy: 48.00%\n",
      "Epoch: 54\tTraining Loss: 0.5870\tVal Loss: 0.5919\tTraining Accuracy: 51.62%\tValidation Accuracy: 48.00%\n",
      "Epoch: 55\tTraining Loss: 0.5847\tVal Loss: 0.5894\tTraining Accuracy: 52.00%\tValidation Accuracy: 48.00%\n",
      "Epoch: 56\tTraining Loss: 0.5824\tVal Loss: 0.5869\tTraining Accuracy: 52.38%\tValidation Accuracy: 48.50%\n",
      "Epoch: 57\tTraining Loss: 0.5800\tVal Loss: 0.5845\tTraining Accuracy: 52.50%\tValidation Accuracy: 48.50%\n",
      "Epoch: 58\tTraining Loss: 0.5777\tVal Loss: 0.5820\tTraining Accuracy: 53.00%\tValidation Accuracy: 49.50%\n",
      "Epoch: 59\tTraining Loss: 0.5754\tVal Loss: 0.5795\tTraining Accuracy: 53.37%\tValidation Accuracy: 49.50%\n",
      "Epoch: 60\tTraining Loss: 0.5731\tVal Loss: 0.5771\tTraining Accuracy: 53.75%\tValidation Accuracy: 49.50%\n",
      "Epoch: 61\tTraining Loss: 0.5708\tVal Loss: 0.5746\tTraining Accuracy: 54.00%\tValidation Accuracy: 50.50%\n",
      "Epoch: 62\tTraining Loss: 0.5684\tVal Loss: 0.5720\tTraining Accuracy: 54.37%\tValidation Accuracy: 50.50%\n",
      "Epoch: 63\tTraining Loss: 0.5661\tVal Loss: 0.5696\tTraining Accuracy: 55.12%\tValidation Accuracy: 50.50%\n",
      "Epoch: 64\tTraining Loss: 0.5638\tVal Loss: 0.5671\tTraining Accuracy: 55.38%\tValidation Accuracy: 51.00%\n",
      "Epoch: 65\tTraining Loss: 0.5614\tVal Loss: 0.5645\tTraining Accuracy: 56.00%\tValidation Accuracy: 51.50%\n",
      "Epoch: 66\tTraining Loss: 0.5591\tVal Loss: 0.5620\tTraining Accuracy: 57.00%\tValidation Accuracy: 52.50%\n",
      "Epoch: 67\tTraining Loss: 0.5567\tVal Loss: 0.5595\tTraining Accuracy: 57.75%\tValidation Accuracy: 53.50%\n",
      "Epoch: 68\tTraining Loss: 0.5544\tVal Loss: 0.5570\tTraining Accuracy: 58.63%\tValidation Accuracy: 53.50%\n",
      "Epoch: 69\tTraining Loss: 0.5520\tVal Loss: 0.5545\tTraining Accuracy: 59.25%\tValidation Accuracy: 54.00%\n",
      "Epoch: 70\tTraining Loss: 0.5497\tVal Loss: 0.5519\tTraining Accuracy: 60.12%\tValidation Accuracy: 55.00%\n",
      "Epoch: 71\tTraining Loss: 0.5473\tVal Loss: 0.5495\tTraining Accuracy: 60.62%\tValidation Accuracy: 56.50%\n",
      "Epoch: 72\tTraining Loss: 0.5450\tVal Loss: 0.5469\tTraining Accuracy: 61.25%\tValidation Accuracy: 56.50%\n",
      "Epoch: 73\tTraining Loss: 0.5427\tVal Loss: 0.5444\tTraining Accuracy: 62.38%\tValidation Accuracy: 57.00%\n",
      "Epoch: 74\tTraining Loss: 0.5403\tVal Loss: 0.5418\tTraining Accuracy: 63.38%\tValidation Accuracy: 58.00%\n",
      "Epoch: 75\tTraining Loss: 0.5380\tVal Loss: 0.5393\tTraining Accuracy: 64.50%\tValidation Accuracy: 58.50%\n",
      "Epoch: 76\tTraining Loss: 0.5356\tVal Loss: 0.5368\tTraining Accuracy: 65.00%\tValidation Accuracy: 59.00%\n",
      "Epoch: 77\tTraining Loss: 0.5333\tVal Loss: 0.5343\tTraining Accuracy: 65.25%\tValidation Accuracy: 61.00%\n",
      "Epoch: 78\tTraining Loss: 0.5309\tVal Loss: 0.5318\tTraining Accuracy: 65.75%\tValidation Accuracy: 62.50%\n",
      "Epoch: 79\tTraining Loss: 0.5286\tVal Loss: 0.5292\tTraining Accuracy: 66.50%\tValidation Accuracy: 64.00%\n",
      "Epoch: 80\tTraining Loss: 0.5262\tVal Loss: 0.5267\tTraining Accuracy: 67.50%\tValidation Accuracy: 65.00%\n",
      "Epoch: 81\tTraining Loss: 0.5239\tVal Loss: 0.5242\tTraining Accuracy: 68.88%\tValidation Accuracy: 65.50%\n",
      "Epoch: 82\tTraining Loss: 0.5216\tVal Loss: 0.5216\tTraining Accuracy: 69.38%\tValidation Accuracy: 66.50%\n",
      "Epoch: 83\tTraining Loss: 0.5192\tVal Loss: 0.5192\tTraining Accuracy: 70.25%\tValidation Accuracy: 68.00%\n",
      "Epoch: 84\tTraining Loss: 0.5169\tVal Loss: 0.5166\tTraining Accuracy: 72.00%\tValidation Accuracy: 70.50%\n",
      "Epoch: 85\tTraining Loss: 0.5146\tVal Loss: 0.5141\tTraining Accuracy: 73.12%\tValidation Accuracy: 71.00%\n",
      "Epoch: 86\tTraining Loss: 0.5123\tVal Loss: 0.5116\tTraining Accuracy: 74.25%\tValidation Accuracy: 72.50%\n",
      "Epoch: 87\tTraining Loss: 0.5100\tVal Loss: 0.5092\tTraining Accuracy: 74.88%\tValidation Accuracy: 73.50%\n",
      "Epoch: 88\tTraining Loss: 0.5076\tVal Loss: 0.5066\tTraining Accuracy: 75.62%\tValidation Accuracy: 75.50%\n",
      "Epoch: 89\tTraining Loss: 0.5054\tVal Loss: 0.5041\tTraining Accuracy: 76.25%\tValidation Accuracy: 75.50%\n",
      "Epoch: 90\tTraining Loss: 0.5030\tVal Loss: 0.5016\tTraining Accuracy: 77.75%\tValidation Accuracy: 76.50%\n",
      "Epoch: 91\tTraining Loss: 0.5007\tVal Loss: 0.4992\tTraining Accuracy: 78.88%\tValidation Accuracy: 78.00%\n",
      "Epoch: 92\tTraining Loss: 0.4985\tVal Loss: 0.4967\tTraining Accuracy: 79.38%\tValidation Accuracy: 78.50%\n",
      "Epoch: 93\tTraining Loss: 0.4962\tVal Loss: 0.4943\tTraining Accuracy: 80.00%\tValidation Accuracy: 78.50%\n",
      "Epoch: 94\tTraining Loss: 0.4939\tVal Loss: 0.4918\tTraining Accuracy: 80.12%\tValidation Accuracy: 78.50%\n",
      "Epoch: 95\tTraining Loss: 0.4917\tVal Loss: 0.4893\tTraining Accuracy: 80.12%\tValidation Accuracy: 79.50%\n",
      "Epoch: 96\tTraining Loss: 0.4894\tVal Loss: 0.4869\tTraining Accuracy: 80.12%\tValidation Accuracy: 80.00%\n",
      "Epoch: 97\tTraining Loss: 0.4871\tVal Loss: 0.4845\tTraining Accuracy: 80.88%\tValidation Accuracy: 80.00%\n",
      "Epoch: 98\tTraining Loss: 0.4849\tVal Loss: 0.4820\tTraining Accuracy: 81.50%\tValidation Accuracy: 81.50%\n",
      "Epoch: 99\tTraining Loss: 0.4827\tVal Loss: 0.4797\tTraining Accuracy: 81.75%\tValidation Accuracy: 82.00%\n",
      "Epoch: 100\tTraining Loss: 0.4804\tVal Loss: 0.4773\tTraining Accuracy: 82.12%\tValidation Accuracy: 82.00%\n",
      "Epoch: 101\tTraining Loss: 0.4785\tVal Loss: 0.4754\tTraining Accuracy: 82.38%\tValidation Accuracy: 83.00%\n",
      "Epoch: 102\tTraining Loss: 0.4768\tVal Loss: 0.4737\tTraining Accuracy: 82.38%\tValidation Accuracy: 83.50%\n",
      "Epoch: 103\tTraining Loss: 0.4752\tVal Loss: 0.4719\tTraining Accuracy: 82.50%\tValidation Accuracy: 83.50%\n",
      "Epoch: 104\tTraining Loss: 0.4736\tVal Loss: 0.4701\tTraining Accuracy: 82.38%\tValidation Accuracy: 84.00%\n",
      "Epoch: 105\tTraining Loss: 0.4720\tVal Loss: 0.4683\tTraining Accuracy: 83.00%\tValidation Accuracy: 84.00%\n",
      "Epoch: 106\tTraining Loss: 0.4703\tVal Loss: 0.4666\tTraining Accuracy: 83.00%\tValidation Accuracy: 83.50%\n",
      "Epoch: 107\tTraining Loss: 0.4687\tVal Loss: 0.4648\tTraining Accuracy: 83.38%\tValidation Accuracy: 83.00%\n",
      "Epoch: 108\tTraining Loss: 0.4671\tVal Loss: 0.4631\tTraining Accuracy: 83.25%\tValidation Accuracy: 83.50%\n",
      "Epoch: 109\tTraining Loss: 0.4655\tVal Loss: 0.4614\tTraining Accuracy: 83.25%\tValidation Accuracy: 84.00%\n",
      "Epoch: 110\tTraining Loss: 0.4639\tVal Loss: 0.4596\tTraining Accuracy: 82.88%\tValidation Accuracy: 84.00%\n",
      "Epoch: 111\tTraining Loss: 0.4624\tVal Loss: 0.4579\tTraining Accuracy: 83.50%\tValidation Accuracy: 84.00%\n",
      "Epoch: 112\tTraining Loss: 0.4608\tVal Loss: 0.4562\tTraining Accuracy: 83.75%\tValidation Accuracy: 84.50%\n",
      "Epoch: 113\tTraining Loss: 0.4592\tVal Loss: 0.4545\tTraining Accuracy: 83.62%\tValidation Accuracy: 84.50%\n",
      "Epoch: 114\tTraining Loss: 0.4576\tVal Loss: 0.4528\tTraining Accuracy: 83.88%\tValidation Accuracy: 84.50%\n",
      "Epoch: 115\tTraining Loss: 0.4561\tVal Loss: 0.4511\tTraining Accuracy: 84.62%\tValidation Accuracy: 84.50%\n",
      "Epoch: 116\tTraining Loss: 0.4546\tVal Loss: 0.4494\tTraining Accuracy: 84.62%\tValidation Accuracy: 84.50%\n",
      "Epoch: 117\tTraining Loss: 0.4530\tVal Loss: 0.4477\tTraining Accuracy: 85.00%\tValidation Accuracy: 85.00%\n",
      "Epoch: 118\tTraining Loss: 0.4515\tVal Loss: 0.4460\tTraining Accuracy: 84.88%\tValidation Accuracy: 85.50%\n",
      "Epoch: 119\tTraining Loss: 0.4500\tVal Loss: 0.4444\tTraining Accuracy: 85.12%\tValidation Accuracy: 85.00%\n",
      "Epoch: 120\tTraining Loss: 0.4485\tVal Loss: 0.4427\tTraining Accuracy: 85.25%\tValidation Accuracy: 84.50%\n",
      "Epoch: 121\tTraining Loss: 0.4469\tVal Loss: 0.4411\tTraining Accuracy: 85.00%\tValidation Accuracy: 84.00%\n",
      "Epoch: 122\tTraining Loss: 0.4454\tVal Loss: 0.4395\tTraining Accuracy: 84.75%\tValidation Accuracy: 84.50%\n",
      "Epoch: 123\tTraining Loss: 0.4440\tVal Loss: 0.4378\tTraining Accuracy: 84.50%\tValidation Accuracy: 85.00%\n",
      "Epoch: 124\tTraining Loss: 0.4425\tVal Loss: 0.4362\tTraining Accuracy: 84.00%\tValidation Accuracy: 85.00%\n",
      "Epoch: 125\tTraining Loss: 0.4410\tVal Loss: 0.4346\tTraining Accuracy: 83.12%\tValidation Accuracy: 85.00%\n",
      "Epoch: 126\tTraining Loss: 0.4395\tVal Loss: 0.4330\tTraining Accuracy: 83.12%\tValidation Accuracy: 85.00%\n",
      "Epoch: 127\tTraining Loss: 0.4381\tVal Loss: 0.4314\tTraining Accuracy: 82.88%\tValidation Accuracy: 85.50%\n",
      "Epoch: 128\tTraining Loss: 0.4366\tVal Loss: 0.4298\tTraining Accuracy: 82.75%\tValidation Accuracy: 85.00%\n",
      "Epoch: 129\tTraining Loss: 0.4352\tVal Loss: 0.4282\tTraining Accuracy: 82.62%\tValidation Accuracy: 85.00%\n",
      "Epoch: 130\tTraining Loss: 0.4337\tVal Loss: 0.4266\tTraining Accuracy: 82.62%\tValidation Accuracy: 84.00%\n",
      " \n",
      "train parameter: \n",
      "batch_size: 40 \t hidden layer: [14, 2] \t dropout: [0.0, 0.0]\n",
      "lr: 0.0001 \t step size: 50 \t gamma: 0.75\n",
      "epochs: 130\n"
     ]
    }
   ],
   "source": [
    "# This is the actual model training (and validation). It may take a while, depending on:\n",
    "# epoch number, network architecture, dataset size.\n",
    "\n",
    "train_losses = []\n",
    "val_losses = []\n",
    "\n",
    "train_accuracies = []\n",
    "val_accuracies = []\n",
    "\n",
    "\n",
    "# training the model\n",
    "for i in range(epochs):\n",
    "\n",
    "    train_running_loss = 0\n",
    "\n",
    "    model.train()  # Set the model to training mode\n",
    "    for id_batch, (data, label) in enumerate(train_loader):\n",
    "        output = model(data)\n",
    "        loss = lossFunction(output, label)\n",
    "        loss.backward()\n",
    "        opt.step()\n",
    "        opt.zero_grad(set_to_none=True)\n",
    "\n",
    "        train_running_loss += loss.item()\n",
    "   \n",
    "    train_losses.append(train_running_loss/(id_batch+1))\n",
    "    scheduler.step()\n",
    "    \n",
    "    model.eval()\n",
    "    train_acc , train_loss = evaluate_model( model , train_loader, lossFunction)\n",
    "    val_acc , val_loss = evaluate_model( model , val_loader, lossFunction)\n",
    "\n",
    "    train_accuracies.append(train_acc)\n",
    "    val_accuracies.append(val_acc)\n",
    "    val_losses.append(val_loss)\n",
    "      \n",
    "\n",
    "    print(\n",
    "        \"Epoch: {}\\tTraining Loss: {:.4f}\\tVal Loss: {:.4f}\\tTraining Accuracy: {:.2f}%\\tValidation Accuracy: {:.2f}%\".format(\n",
    "            i + 1, train_losses[i], val_loss, 100 * train_acc, 100 * val_acc)\n",
    "        )\n",
    "    \n",
    "print(' ')\n",
    "print( f'train parameter: ')\n",
    "print(f'batch_size: {batch_size} \\t hidden layer: {hidden_layers} \\t dropout: {dropout}')\n",
    "print(f'lr: {learning_rate} \\t step size: {step_size} \\t gamma: {gamma}')\n",
    "print(f'epochs: {epochs}')"
   ]
  },
  {
   "cell_type": "code",
   "execution_count": 14,
   "metadata": {},
   "outputs": [
    {
     "name": "stdout",
     "output_type": "stream",
     "text": [
      "85.5\n"
     ]
    }
   ],
   "source": [
    "print(100*max(val_accuracies))"
   ]
  },
  {
   "cell_type": "code",
   "execution_count": 15,
   "metadata": {},
   "outputs": [
    {
     "data": {
      "text/plain": [
       "Text(0, 0.5, 'Loss')"
      ]
     },
     "execution_count": 15,
     "metadata": {},
     "output_type": "execute_result"
    },
    {
     "data": {
      "image/png": "[encoded data removed]",
      "text/plain": [
       "<Figure size 640x480 with 1 Axes>"
      ]
     },
     "metadata": {},
     "output_type": "display_data"
    }
   ],
   "source": [
    "plt.plot(train_losses)\n",
    "plt.plot(val_losses)\n",
    "plt.legend([\"Loss on train\", \"Loss on validation\"])\n",
    "plt.xlabel(\"Epoch\")\n",
    "plt.ylabel(\"Loss\")"
   ]
  },
  {
   "cell_type": "code",
   "execution_count": 16,
   "metadata": {},
   "outputs": [
    {
     "data": {
      "text/plain": [
       "Text(0, 0.5, 'Accuracy')"
      ]
     },
     "execution_count": 16,
     "metadata": {},
     "output_type": "execute_result"
    },
    {
     "data": {
      "image/png": "[encoded data removed]",
      "text/plain": [
       "<Figure size 640x480 with 1 Axes>"
      ]
     },
     "metadata": {},
     "output_type": "display_data"
    }
   ],
   "source": [
    "plt.plot(train_accuracies)\n",
    "plt.plot(val_accuracies)\n",
    "plt.legend([\"Accuracies on train\", \"Accuracies on validation\"])\n",
    "plt.xlabel(\"Epoch\")\n",
    "plt.ylabel(\"Accuracy\")"
   ]
  },
  {
   "cell_type": "code",
   "execution_count": null,
   "metadata": {},
   "outputs": [],
   "source": []
  }
 ],
 "metadata": {
  "kernelspec": {
   "display_name": ".tesi_env",
   "language": "python",
   "name": "python3"
  },
  "language_info": {
   "codemirror_mode": {
    "name": "ipython",
    "version": 3
   },
   "file_extension": ".py",
   "mimetype": "text/x-python",
   "name": "python",
   "nbconvert_exporter": "python",
   "pygments_lexer": "ipython3",
   "version": "3.11.5"
  }
 },
 "nbformat": 4,
 "nbformat_minor": 2
}
