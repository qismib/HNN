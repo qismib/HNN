{
 "cells": [
  {
   "cell_type": "code",
   "execution_count": 1,
   "id": "d2a0c28d-e3ed-477e-8f28-2c2e5969422e",
   "metadata": {},
   "outputs": [],
   "source": [
    "#Import libraries\n",
    "\n",
    "from qiskit import QuantumCircuit\n",
    "from qiskit_ibm_runtime.fake_provider import FakeLagosV2 , FakePerth, FakeBelemV2, FakeValenciaV2, FakeRomeV2, FakeOslo\n",
    "from qiskit.visualization import plot_circuit_layout, plot_coupling_map\n",
    "\n",
    "# provider - N Qubit\n",
    "#Lagos-7  Perth-7  Belem-5 Valencia-5  Roma-5 Oslo-7\n",
    "\n",
    "from qiskit import transpile\n",
    "from qiskit.visualization import plot_histogram\n",
    "import numpy as np\n",
    "import matplotlib.pyplot as plt\n",
    "import math\n",
    "from itertools import combinations"
   ]
  },
  {
   "cell_type": "code",
   "execution_count": 2,
   "id": "f7d79173-b19d-42cd-bce6-e4ff2b085345",
   "metadata": {},
   "outputs": [
    {
     "name": "stdout",
     "output_type": "stream",
     "text": [
      "     ┌───┐                               \n",
      "q_0: ┤ H ├──■────────────────────────────\n",
      "     └───┘┌─┴─┐┌───┐                     \n",
      "q_1: ─────┤ X ├┤ H ├──■──────────────────\n",
      "          └───┘└───┘┌─┴─┐┌───┐     ┌─┐   \n",
      "q_2: ───────────────┤ X ├┤ X ├──■──┤M├───\n",
      "                    └───┘└───┘┌─┴─┐└╥┘┌─┐\n",
      "q_3: ─────────────────────────┤ X ├─╫─┤M├\n",
      "                              └───┘ ║ └╥┘\n",
      "q_4: ───────────────────────────────╫──╫─\n",
      "                                    ║  ║ \n",
      "c: 2/═══════════════════════════════╩══╩═\n",
      "                                    0  1 \n"
     ]
    }
   ],
   "source": [
    "#Quantum Circuit\n",
    "qc = QuantumCircuit( 5 ,2 )\n",
    "qc.h(0)\n",
    "qc.cx(0,1)\n",
    "qc.h(1)\n",
    "qc.cx(1,2)\n",
    "qc.x(2)\n",
    "qc.cx(2,3)\n",
    "qc.measure( [2,3],[0,1] )\n",
    "print(qc)\n"
   ]
  },
  {
   "cell_type": "code",
   "execution_count": 3,
   "id": "38210da5-0431-45c8-9fbb-5233573c86bc",
   "metadata": {},
   "outputs": [],
   "source": [
    "shots = 200\n",
    "num_samples = 1000\n",
    "measured_qubits = 2\n",
    "\n",
    "Backend_list= {\n",
    "    'Lagos'    : FakeLagosV2(),\n",
    "    #'Perth'    : FakePerth(),\n",
    "    #'Belem'    : FakeBelemV2(),\n",
    "    'Valencia' : FakeValenciaV2(),\n",
    "    #'Rome'     : FakeRomeV2(),\n",
    "    #'Oslo'     : FakeOslo()\n",
    "}"
   ]
  },
  {
   "cell_type": "code",
   "execution_count": 4,
   "id": "ac28a4b3-2c7c-4600-90bd-7616a303bfbe",
   "metadata": {},
   "outputs": [],
   "source": [
    "# Function for run our quantum circuit on a backend\n",
    " \n",
    "def run_circuit(circuit, backend, shots, measured_qubits ):\n",
    "    \n",
    "# transpile the circuit for the backend\n",
    "    transpiled_circuit = transpile(circuit, backend) \n",
    "\n",
    "# run the transpile circuit on the backend \n",
    "    job = backend.run(transpiled_circuit, shots = shots)\n",
    "\n",
    "# get the result counts\n",
    "    counts = job.result().get_counts()\n",
    "\n",
    "# define all_possible_keys in order to convert natural number in range 2^(number of measured qubit) in binary number\n",
    "    # exemple: measured_qubit = 2; [ 1,2,3,4] --> [00 , 01 , 10 , 11 ]\n",
    "    all_possible_keys = [format(i, '0'+str(measured_qubits)+'b') for i in range(2**measured_qubits)]\n",
    "\n",
    "# Let's normalize the counts in order to have values in range [0,1]. Additionally, let's add the keys with no counts, assigning them a value of 0\n",
    "    for key in all_possible_keys:\n",
    "        if key not in counts:\n",
    "            counts[key] = 0.0\n",
    "        counts[key] = counts[key]/shots\n",
    "    sorted_counts = dict(sorted(counts.items()))\n",
    "    return sorted_counts"
   ]
  },
  {
   "cell_type": "code",
   "execution_count": 5,
   "id": "e3cd1db1-bcf8-44c0-80f0-785e870aef45",
   "metadata": {},
   "outputs": [],
   "source": [
    "# Function for create an array with counts get by 'run_circuit'\n",
    "\n",
    "def make_counts_array( num_samples , circuit , backend, shots, measured_qubits):\n",
    "    \n",
    "# preallocate a matrix with dimention [num_samples] x [ 2^(measured_qubit) ]\n",
    "    data = np.zeros((num_samples , 2**measured_qubits))\n",
    "    \n",
    "    for i in range( num_samples):\n",
    "        \n",
    "        # preallocate the array for the counts\n",
    "        counts_array = np.zeros(2**measured_qubits)\n",
    "        counts = run_circuit(circuit, backend, shots, measured_qubits)\n",
    "        \n",
    "        # fill the count_array\n",
    "        for j, key in enumerate(sorted(counts.keys())):\n",
    "            counts_array[j] = counts[key]\n",
    "        data[i] = counts_array\n",
    "    return data"
   ]
  },
  {
   "cell_type": "code",
   "execution_count": 6,
   "id": "0eb6ee11-9956-4861-a85b-3733dc948f0f",
   "metadata": {},
   "outputs": [],
   "source": [
    "# Function to create a dataset and a labels\n",
    "\n",
    "def make_dataset(num_samples, circuit, backend1, backend2, shots, measured_qubits):\n",
    "    \n",
    "# preallocate a dataset with dimention [2num_samples] x [ 2^(measured_qubit) ]\n",
    "    dataset = np.zeros((2*num_samples, 2**measured_qubits))\n",
    "    \n",
    "    # generate samples calling the function 'make_counts_array' using backend1 as input\n",
    "    data1 = make_counts_array( num_samples, circuit, backend1, shots, measured_qubits)\n",
    "    \n",
    "    # generate samples calling the function 'make_counts_array' using backend1 as input\n",
    "    data2 = make_counts_array( num_samples, circuit, backend2, shots, measured_qubits)\n",
    "\n",
    "    # Concatenate data1 and data2\n",
    "    dataset = np.concatenate([data1,data2])\n",
    "    \n",
    "    # create the labels: 0 for samples of backend1, 1 for samples of backend2\n",
    "    labels = np.concatenate([np.zeros(num_samples), np.ones(num_samples)])\n",
    "    \n",
    "    # return the dataset and the labels\n",
    "    return dataset, labels"
   ]
  },
  {
   "cell_type": "code",
   "execution_count": 7,
   "id": "c866c02b-da0c-4039-a7b7-a20f965bcb03",
   "metadata": {},
   "outputs": [
    {
     "data": {
      "image/png": "[encoded data removed]",
      "text/plain": [
       "<Figure size 640x480 with 1 Axes>"
      ]
     },
     "metadata": {},
     "output_type": "display_data"
    }
   ],
   "source": [
    "keys = list(Backend_list.keys())\n",
    "for combination in combinations(keys,2):\n",
    "    key1, key2 = combination\n",
    "    file_name   = 'Dati/dataset_{}_x_{}'.format( key1 , key2)\n",
    "    labels_name = 'Dati/labels_{}_x_{}'.format( key1 , key2)\n",
    "    dataset, labels = make_dataset(num_samples, qc , Backend_list[key1], Backend_list[key2], shots, measured_qubits)\n",
    "    np.save(file_name , dataset)\n",
    "    np.save(labels_name, labels)\n",
    "    plt.scatter(x=dataset[labels==0,0], y=dataset[labels==0,1],color='blue' )\n",
    "    \n",
    "    plt.scatter(x=dataset[labels==1,0], y=dataset[labels==1,1] ,color='green')\n",
    "    plt.title(key1 + ' ' + key2)\n",
    "    plt.savefig( \"Grafici/{}_x_{}.png\".format(key1,key2))"
   ]
  },
  {
   "cell_type": "code",
   "execution_count": null,
   "id": "6af49758-5114-454c-94d7-a8b2aded7b5f",
   "metadata": {},
   "outputs": [],
   "source": []
  }
 ],
 "metadata": {
  "kernelspec": {
   "display_name": "Python 3 (ipykernel)",
   "language": "python",
   "name": "python3"
  },
  "language_info": {
   "codemirror_mode": {
    "name": "ipython",
    "version": 3
   },
   "file_extension": ".py",
   "mimetype": "text/x-python",
   "name": "python",
   "nbconvert_exporter": "python",
   "pygments_lexer": "ipython3",
   "version": "3.8.18"
  }
 },
 "nbformat": 4,
 "nbformat_minor": 5
}
